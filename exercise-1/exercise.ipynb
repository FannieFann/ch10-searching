{
 "cells": [
  {
   "cell_type": "markdown",
   "metadata": {},
   "source": [
    "# Exercise 1\n",
    "Add the specified code for each code cell, running the cells _in order_."
   ]
  },
  {
   "cell_type": "markdown",
   "metadata": {},
   "source": [
    "Create a variable **`deck`** that represents a deck of [playing cards](https://en.wikipedia.org/wiki/Playing_card). This variable should be a _list_ of 52 elements, each of which is a **tuple** with two values:\n",
    "- a string representing the suit, either `'hearts'`, `'diamonds'`, `'clubs'`, or `'spades'`.\n",
    "- an interger representing the rank, ranging from 2 to 14 inclusive (11-14 represent a Jack, Queen, King, or Ace respectively).\n",
    "\n",
    "_Tip:_ use a pair of nested loops to add each combination of suit and rank to the `deck` list!"
   ]
  },
  {
   "cell_type": "code",
   "execution_count": 1,
   "metadata": {},
   "outputs": [],
   "source": [
    "deck = []\n",
    "for suit in ['hearts', 'diamonds', 'clubs', 'spades']:\n",
    "    for rank in range(2, 14+1):\n",
    "        deck.append((rank, suit))\n",
    "# print(deck)"
   ]
  },
  {
   "cell_type": "markdown",
   "metadata": {},
   "source": [
    "Create a list **hand** that represents a hand of [Poker](https://en.wikipedia.org/wiki/Poker) (5-card draw). Add 5 cards from the `deck` to this list.\n",
    "- You can add 5 specific cards for testing (check their indices!), or use the `random.shuffle()` function to shuffle the deck and then _slice_ 5 cards from the top.\n",
    "\n",
    "Print out the `hand` so you know what you are dealing with!"
   ]
  },
  {
   "cell_type": "code",
   "execution_count": 2,
   "metadata": {},
   "outputs": [
    {
     "name": "stdout",
     "output_type": "stream",
     "text": [
      "[(11, 'hearts'), (10, 'hearts'), (5, 'diamonds'), (10, 'diamonds'), (8, 'spades')]\n"
     ]
    }
   ],
   "source": [
    "import random\n",
    "random.shuffle(deck)\n",
    "hand = deck[:5]\n",
    "print(hand)"
   ]
  },
  {
   "cell_type": "markdown",
   "metadata": {},
   "source": [
    "Define a function **`contains_queen_of_hearts()`** that takes in a list of cards (e.g., a hand) and returns whether or not the Queen of Hearts is in that list. _For practice, don't use the `in` operator to check for containment_."
   ]
  },
  {
   "cell_type": "code",
   "execution_count": 3,
   "metadata": {},
   "outputs": [
    {
     "name": "stdout",
     "output_type": "stream",
     "text": [
      "False\n",
      "True\n"
     ]
    }
   ],
   "source": [
    "RANK_INDEX = 0 # for readability/convenience\n",
    "SUIT_INDEX = 1\n",
    "\n",
    "def contains_queen_of_hearts(hand):\n",
    "    for card in hand:\n",
    "        if card[RANK_INDEX] == 12 and card[SUIT_INDEX] == 'hearts':\n",
    "            return True\n",
    "    return False\n",
    "print(contains_queen_of_hearts(hand))\n",
    "print(contains_queen_of_hearts(deck))"
   ]
  },
  {
   "cell_type": "markdown",
   "metadata": {},
   "source": [
    "Define a function **`get_high_card()`** that takes in a list of cards and returns the card (tuple) of the highest value. The \"high card\" is the one with the highest rank. Cards of different suits but the same rank are considered to have the same value and either may be returned.\n",
    "- Hint: use a \"king-of-the-hill\" search!"
   ]
  },
  {
   "cell_type": "code",
   "execution_count": 4,
   "metadata": {},
   "outputs": [
    {
     "name": "stdout",
     "output_type": "stream",
     "text": [
      "(11, 'hearts')\n",
      "(14, 'diamonds')\n"
     ]
    }
   ],
   "source": [
    "def get_high_card(hand):\n",
    "    high_card = hand[0]\n",
    "    for card in hand:\n",
    "        if card[RANK_INDEX] > high_card[RANK_INDEX]:\n",
    "            high_card = card\n",
    "    return high_card\n",
    "\n",
    "print(get_high_card(hand))\n",
    "print(get_high_card(deck))"
   ]
  },
  {
   "cell_type": "markdown",
   "metadata": {},
   "source": [
    "Define a function **`is_flush()`** that takes in a list of cards and returns whether or not the list represents a _flush_&mdash;that is, all of the cards have the same _suit_."
   ]
  },
  {
   "cell_type": "code",
   "execution_count": 5,
   "metadata": {},
   "outputs": [
    {
     "name": "stdout",
     "output_type": "stream",
     "text": [
      "False\n",
      "True\n"
     ]
    }
   ],
   "source": [
    "def is_flush(hand):\n",
    "    suit = hand[0][SUIT_INDEX]  # first card's suite is one to match\n",
    "    for card in hand:\n",
    "        if card[SUIT_INDEX] != suit:  # check if counter-example\n",
    "            return False\n",
    "    return True\n",
    "\n",
    "print(is_flush(hand))\n",
    "print(is_flush(\n",
    "    [(2, 'spades'), (3, 'spades'), (4, 'spades')]\n",
    "))"
   ]
  },
  {
   "cell_type": "markdown",
   "metadata": {},
   "source": [
    "_Challenge_: Define a functon **`has_pair()`** that takes in a list of cards and returns whether or not there is at least one _pair_ (two cards with the same _rank_) in the list.\n",
    "\n",
    "_Bonus challenge:_ Return the rank of the pair of cards with the highest rank (e.g., if there is more than one pair!) "
   ]
  },
  {
   "cell_type": "code",
   "execution_count": 6,
   "metadata": {},
   "outputs": [
    {
     "name": "stdout",
     "output_type": "stream",
     "text": [
      "10\n",
      "None\n",
      "14\n"
     ]
    }
   ],
   "source": [
    "def has_pair(hand):\n",
    "    max_pair_rank = 0  # initial maximum (none)\n",
    "    for i in range(len(hand)):  # check if this card has a pair\n",
    "        for j in range(i+1, len(hand)):\n",
    "            if hand[i][RANK_INDEX] == hand[j][RANK_INDEX]:  # has a pair\n",
    "                if(hand[i][RANK_INDEX] > max_pair_rank):  # compare to current max\n",
    "                    max_pair_rank = hand[i][RANK_INDEX]\n",
    "    if max_pair_rank >= 2:  # if found a pair, return that\n",
    "        return max_pair_rank\n",
    "    else:\n",
    "        return None\n",
    "\n",
    "print(has_pair(hand))\n",
    "print(has_pair(\n",
    "    [(2, 'spades'), (3, 'spades'), (4, 'spades')]\n",
    "))\n",
    "print(has_pair(deck))"
   ]
  }
 ],
 "metadata": {
  "kernelspec": {
   "display_name": "Python 3",
   "language": "python",
   "name": "python3"
  },
  "language_info": {
   "codemirror_mode": {
    "name": "ipython",
    "version": 3
   },
   "file_extension": ".py",
   "mimetype": "text/x-python",
   "name": "python",
   "nbconvert_exporter": "python",
   "pygments_lexer": "ipython3",
   "version": "3.7.0"
  },
  "toc": {
   "colors": {
    "hover_highlight": "#DAA520",
    "running_highlight": "#FF0000",
    "selected_highlight": "#FFD700"
   },
   "moveMenuLeft": true,
   "nav_menu": {
    "height": "30px",
    "width": "252px"
   },
   "navigate_menu": true,
   "number_sections": true,
   "sideBar": true,
   "threshold": 4,
   "toc_cell": false,
   "toc_section_display": "block",
   "toc_window_display": false,
   "widenNotebook": false
  }
 },
 "nbformat": 4,
 "nbformat_minor": 2
}
