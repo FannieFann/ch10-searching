{
 "cells": [
  {
   "cell_type": "markdown",
   "metadata": {},
   "source": [
    "# Exercise 1\n",
    "Add the specified code for each code cell, running the cells _in order_."
   ]
  },
  {
   "cell_type": "markdown",
   "metadata": {},
   "source": [
    "Create a variable **`deck`** that represents a deck of [playing cards](https://en.wikipedia.org/wiki/Playing_card). This variable should be a _list_ of 52 elements, each of which is a dictionary with the following keys:\n",
    "- `suit`, with a string value that is either `'hearts'`, `'diamonds'`, `'clubs'`, or `'spades'`.\n",
    "- `rank`, with an interger value ranging from 2 to 14 inclusive (11-14 represent a Jack, Queen, King, or Ace respectively).\n",
    "\n",
    "_Tip:_ use a pair of nested loops to add each combination of suit and rank to the `deck` list!"
   ]
  },
  {
   "cell_type": "code",
   "execution_count": 1,
   "metadata": {},
   "outputs": [],
   "source": [
    "deck = []\n",
    "for suit in ['hearts', 'diamonds', 'clubs', 'spades']:\n",
    "    for rank in range(2, 14+1):\n",
    "        deck.append({'suit':suit, 'rank':rank })\n",
    "#print(deck)"
   ]
  },
  {
   "cell_type": "markdown",
   "metadata": {},
   "source": [
    "Create a list **hand** that represents a hand of [Poker](https://en.wikipedia.org/wiki/Poker) (5-card draw). Add 5 cards from the `deck` to this list.\n",
    "- You can add 5 specific cards for testing (check their indices!), or use the `random.shuffle()` function to shuffle the deck and then _slice_ 5 cards from the top.\n",
    "\n",
    "Print out the `hand` so you know what you are dealing with!"
   ]
  },
  {
   "cell_type": "code",
   "execution_count": 2,
   "metadata": {},
   "outputs": [
    {
     "name": "stdout",
     "output_type": "stream",
     "text": [
      "[{'suit': 'hearts', 'rank': 7}, {'suit': 'spades', 'rank': 5}, {'suit': 'spades', 'rank': 7}, {'suit': 'spades', 'rank': 6}, {'suit': 'hearts', 'rank': 4}]\n"
     ]
    }
   ],
   "source": [
    "import random\n",
    "random.shuffle(deck)\n",
    "hand = deck[:5]\n",
    "print(hand)"
   ]
  },
  {
   "cell_type": "markdown",
   "metadata": {},
   "source": [
    "Define a function **`contains_queen_of_hearts()`** that takes in a list of cards (e.g., a hand) and returns whether or not the Queen of Hearts is in that list. _For practice, don't use the `in` operator to check for containment_."
   ]
  },
  {
   "cell_type": "code",
   "execution_count": 3,
   "metadata": {},
   "outputs": [
    {
     "name": "stdout",
     "output_type": "stream",
     "text": [
      "False\n",
      "True\n"
     ]
    }
   ],
   "source": [
    "def contains_queen_of_hearts(hand):\n",
    "    for card in hand:\n",
    "        if card['rank'] == 12 and card['suit'] == 'hearts':\n",
    "            return True\n",
    "    return False\n",
    "print(contains_queen_of_hearts(hand))\n",
    "print(contains_queen_of_hearts(deck))"
   ]
  },
  {
   "cell_type": "markdown",
   "metadata": {},
   "source": [
    "Define a function **`get_high_card()`** that takes in a list of cards and returns the card (dictionary) of the highest value. The \"high card\" is the one with the highest rank. Cards of different suits but the same rank are considered to have the same value and either may be returned.\n",
    "- Hint: use a \"king-of-the-hill\" search!"
   ]
  },
  {
   "cell_type": "code",
   "execution_count": 4,
   "metadata": {},
   "outputs": [
    {
     "name": "stdout",
     "output_type": "stream",
     "text": [
      "{'suit': 'hearts', 'rank': 7}\n",
      "{'suit': 'diamonds', 'rank': 14}\n"
     ]
    }
   ],
   "source": [
    "def get_high_card(hand):\n",
    "    high_card = hand[0]\n",
    "    for card in hand:\n",
    "        if card['rank'] > high_card['rank']:\n",
    "            high_card = card\n",
    "    return high_card\n",
    "\n",
    "print(get_high_card(hand))\n",
    "print(get_high_card(deck))"
   ]
  },
  {
   "cell_type": "markdown",
   "metadata": {},
   "source": [
    "Define a function **`is_flush()`** that takes in a list of cards and returns whether or not the list represents a _flush_&mdash;that is, all of the cards have the same _suit_."
   ]
  },
  {
   "cell_type": "code",
   "execution_count": 5,
   "metadata": {},
   "outputs": [
    {
     "name": "stdout",
     "output_type": "stream",
     "text": [
      "False\n",
      "True\n"
     ]
    }
   ],
   "source": [
    "def is_flush(hand):\n",
    "    suit = hand[0]['suit']  # first card's suite is one to match\n",
    "    for card in hand:\n",
    "        if card['suit'] != suit:  # check if counter-example\n",
    "            return False\n",
    "    return True\n",
    "\n",
    "print(is_flush(hand))\n",
    "print(is_flush(\n",
    "    [\n",
    "        {'suit':'spades', 'rank':2}, \n",
    "        {'suit':'spades', 'rank':3}, \n",
    "        {'suit':'spades', 'rank':4}\n",
    "    ]\n",
    "))"
   ]
  },
  {
   "cell_type": "markdown",
   "metadata": {},
   "source": [
    "_Challenge_: Define a functon **`has_pair()`** that takes in a list of cards and returns whether or not there is at least one _pair_ (two cards with the same _rank_) in the list.\n",
    "\n",
    "_Bonus challenge:_ Return the rank of the pair of cards with the highest rank (e.g., if there is more than one pair!) "
   ]
  },
  {
   "cell_type": "code",
   "execution_count": 6,
   "metadata": {},
   "outputs": [
    {
     "name": "stdout",
     "output_type": "stream",
     "text": [
      "7\n",
      "None\n",
      "14\n"
     ]
    }
   ],
   "source": [
    "def has_pair(hand):\n",
    "    max_pair_rank = 0  # initial maximum (none)\n",
    "    for i in range(len(hand)):  # check if this card has a pair\n",
    "        for j in range(i+1, len(hand)):\n",
    "            if hand[i]['rank'] == hand[j]['rank']:  # has a pair\n",
    "                if(hand[i]['rank'] > max_pair_rank):  # compare to current max\n",
    "                    max_pair_rank = hand[i]['rank']\n",
    "    if max_pair_rank >= 2:  # if found a pair, return that\n",
    "        return max_pair_rank\n",
    "    else:\n",
    "        return None\n",
    "\n",
    "print(has_pair(hand))\n",
    "print(has_pair(\n",
    "    [\n",
    "        {'suit':'spades', 'rank':2}, \n",
    "        {'suit':'spades', 'rank':3}, \n",
    "        {'suit':'spades', 'rank':4}\n",
    "    ]\n",
    "))\n",
    "print(has_pair(deck))"
   ]
  }
 ],
 "metadata": {
  "kernelspec": {
   "display_name": "Python 3",
   "language": "python",
   "name": "python3"
  },
  "language_info": {
   "codemirror_mode": {
    "name": "ipython",
    "version": 3
   },
   "file_extension": ".py",
   "mimetype": "text/x-python",
   "name": "python",
   "nbconvert_exporter": "python",
   "pygments_lexer": "ipython3",
   "version": "3.6.1"
  },
  "toc": {
   "colors": {
    "hover_highlight": "#DAA520",
    "running_highlight": "#FF0000",
    "selected_highlight": "#FFD700"
   },
   "moveMenuLeft": true,
   "nav_menu": {
    "height": "30px",
    "width": "252px"
   },
   "navigate_menu": true,
   "number_sections": true,
   "sideBar": true,
   "threshold": 4,
   "toc_cell": false,
   "toc_section_display": "block",
   "toc_window_display": false,
   "widenNotebook": false
  }
 },
 "nbformat": 4,
 "nbformat_minor": 2
}
